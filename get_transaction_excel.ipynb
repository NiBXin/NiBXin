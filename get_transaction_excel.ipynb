{
 "cells": [
  {
   "cell_type": "code",
   "execution_count": 2,
   "id": "6e7116a8",
   "metadata": {},
   "outputs": [],
   "source": [
    "from selenium import webdriver\n",
    "from selenium.webdriver.chrome.service import Service\n",
    "from selenium.webdriver.chrome.options import Options\n",
    "from selenium.webdriver.common.by import By\n",
    "from selenium.webdriver.support.ui import WebDriverWait\n",
    "from selenium.webdriver.support import expected_conditions as EC\n",
    "import time\n",
    "import os\n",
    "from tabula import read_pdf\n",
    "import pandas as pd\n",
    "import pdfplumber\n",
    "from selenium.webdriver import ActionChains\n",
    "from selenium.webdriver.common.keys import Keys\n",
    "from time import sleep\n",
    "import pypdfium2 as pdfium\n",
    "from bs4 import BeautifulSoup\n",
    "import openpyxl\n",
    "import numpy as np\n"
   ]
  },
  {
   "cell_type": "code",
   "execution_count": null,
   "id": "9779fcc8",
   "metadata": {},
   "outputs": [],
   "source": [
    "chrome_options = Options()\n",
    "\n",
    "download_dir = 'C:\\\\Users\\\\N\\\\Desktop'\n",
    "file_name = 'exceltest4'\n",
    "download_dir = os.path.join(download_dir, file_name)\n",
    "\n",
    "os.makedirs(download_dir, exist_ok=True)\n",
    "\n",
    "# chrome_options.add_experimental_option(\"prefs\", {\n",
    "#     \"download.default_directory\": download_dir, \n",
    "#     \"download.prompt_for_download\": False, \n",
    "#     \"download.directory_upgrade\": True,\n",
    "#     \"plugins.always_open_pdf_externally\": True  \n",
    "# })\n",
    "\n",
    "\n",
    "chromedriver_path = \"C:\\Program Files (x86)\\Google\\Chrome\\Application\\chromedriver\"\n",
    "\n",
    "chrome_options.debugger_address = \"127.0.0.1:9222\"\n",
    "service = Service(executable_path = chromedriver_path)\n",
    "\n",
    "browser = webdriver.Chrome(service=service, options=chrome_options)\n"
   ]
  },
  {
   "cell_type": "code",
   "execution_count": 15,
   "id": "a4650f7d",
   "metadata": {},
   "outputs": [],
   "source": [
    "browser.get(\"https://investor.automic.com.au/#/loginsah\")"
   ]
  },
  {
   "cell_type": "code",
   "execution_count": 16,
   "id": "c59ef6d7",
   "metadata": {},
   "outputs": [
    {
     "ename": "SyntaxError",
     "evalue": "cannot assign to operator (3270251971.py, line 1)",
     "output_type": "error",
     "traceback": [
      "\u001b[1;36m  Input \u001b[1;32mIn [16]\u001b[1;36m\u001b[0m\n\u001b[1;33m    chrome --remote-debugging-port=9222\u001b[0m\n\u001b[1;37m    ^\u001b[0m\n\u001b[1;31mSyntaxError\u001b[0m\u001b[1;31m:\u001b[0m cannot assign to operator\n"
     ]
    }
   ],
   "source": []
  },
  {
   "cell_type": "code",
   "execution_count": 13,
   "id": "1486f888",
   "metadata": {},
   "outputs": [],
   "source": [
    "browser.delete_all_cookies()"
   ]
  }
 ],
 "metadata": {
  "kernelspec": {
   "display_name": "Python 3 (ipykernel)",
   "language": "python",
   "name": "python3"
  },
  "language_info": {
   "codemirror_mode": {
    "name": "ipython",
    "version": 3
   },
   "file_extension": ".py",
   "mimetype": "text/x-python",
   "name": "python",
   "nbconvert_exporter": "python",
   "pygments_lexer": "ipython3",
   "version": "3.9.12"
  }
 },
 "nbformat": 4,
 "nbformat_minor": 5
}
